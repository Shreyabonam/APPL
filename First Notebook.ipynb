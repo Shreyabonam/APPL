{
  "nbformat": 4,
  "nbformat_minor": 0,
  "metadata": {
    "colab": {
      "name": "Untitled0.ipynb",
      "provenance": [],
      "authorship_tag": "ABX9TyOB3zEU2rvhazCQ64YnQ7g0",
      "include_colab_link": true
    },
    "kernelspec": {
      "name": "python3",
      "display_name": "Python 3"
    },
    "language_info": {
      "name": "python"
    }
  },
  "cells": [
    {
      "cell_type": "markdown",
      "metadata": {
        "id": "view-in-github",
        "colab_type": "text"
      },
      "source": [
        "<a href=\"https://colab.research.google.com/github/Shreyabonam/APPL/blob/main/First%20Notebook.ipynb\" target=\"_parent\"><img src=\"https://colab.research.google.com/assets/colab-badge.svg\" alt=\"Open In Colab\"/></a>"
      ]
    },
    {
      "cell_type": "markdown",
      "metadata": {
        "id": "S5pUC-olhsbe"
      },
      "source": [
        "**ASSIGNMENT**\n",
        "\n",
        "\n",
        "\n",
        "\n",
        "\n",
        "\n"
      ]
    },
    {
      "cell_type": "markdown",
      "metadata": {
        "id": "FxqMbBBZi5xG"
      },
      "source": [
        "1.Sum of squares of natural numbers\n"
      ]
    },
    {
      "cell_type": "code",
      "metadata": {
        "colab": {
          "base_uri": "https://localhost:8080/"
        },
        "id": "z23iJnQRhbR5",
        "outputId": "7f4ad121-f65c-4f87-ebb3-5f465d8d9555"
      },
      "source": [
        "n=int(input())\n",
        "sum=0\n",
        "for i in range(1,n+1):\n",
        "  sum+=i**2\n",
        "print(sum)\n",
        "\n",
        "\n"
      ],
      "execution_count": 8,
      "outputs": [
        {
          "output_type": "stream",
          "text": [
            "3\n",
            "14\n"
          ],
          "name": "stdout"
        }
      ]
    },
    {
      "cell_type": "markdown",
      "metadata": {
        "id": "PfwzZo5CkNdU"
      },
      "source": [
        "2.Program to determine whether the given year is leap year or not.\n"
      ]
    },
    {
      "cell_type": "code",
      "metadata": {
        "colab": {
          "base_uri": "https://localhost:8080/"
        },
        "id": "9w6pUo-ajDhY",
        "outputId": "66e404d7-e51f-4190-8268-5d8c648f9c85"
      },
      "source": [
        "a=int(input())\n",
        "if (a%4==0 and (a%100!=0)) or a%400==0:\n",
        "  print(\"LEAP YEAR\")\n",
        "else:\n",
        "  print(\"NOT A LEAP YEAR\")\n",
        "  "
      ],
      "execution_count": 9,
      "outputs": [
        {
          "output_type": "stream",
          "text": [
            "2000\n",
            "LEAP YEAR\n"
          ],
          "name": "stdout"
        }
      ]
    },
    {
      "cell_type": "markdown",
      "metadata": {
        "id": "6JSu6VKsk2RP"
      },
      "source": [
        "3.Program to determine wheather the given number is a palindrome or not.\n"
      ]
    },
    {
      "cell_type": "code",
      "metadata": {
        "colab": {
          "base_uri": "https://localhost:8080/"
        },
        "id": "UzSPnascjDUn",
        "outputId": "72756117-931f-44d3-8a87-b698c9ccd2e7"
      },
      "source": [
        "i=int(input())\n",
        "rev=0\n",
        "n=i\n",
        "while (i>0):\n",
        "  rev=(rev*10)+i%10\n",
        "  i=i//10\n",
        "if (n==rev):\n",
        "  print(\"PALINDROME\")\n",
        "else:\n",
        "  print(\"NOT A PALINDROME\")"
      ],
      "execution_count": 10,
      "outputs": [
        {
          "output_type": "stream",
          "text": [
            "12\n",
            "NOT A PALINDROME\n"
          ],
          "name": "stdout"
        }
      ]
    },
    {
      "cell_type": "markdown",
      "metadata": {
        "id": "sJQW13jJl7Ww"
      },
      "source": [
        "                                                    Done By - Shreya\n",
        "                                                           (20PA1A0522)"
      ]
    }
  ]
}